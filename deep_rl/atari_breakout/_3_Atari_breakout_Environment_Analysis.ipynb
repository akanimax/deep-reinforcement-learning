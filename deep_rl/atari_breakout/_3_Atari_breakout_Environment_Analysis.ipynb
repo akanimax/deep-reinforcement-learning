{
 "cells": [
  {
   "cell_type": "markdown",
   "metadata": {},
   "source": [
    "# Atari breakout Environment analysis\n",
    "-------------------------------------------------------------------------------------------------------------------\n",
    "In this notebook, I perform preliminary analysis of the Atari-Breakout Environment of OpenAI-gym. This analysis will help in creating the RL agent for this game."
   ]
  },
  {
   "cell_type": "code",
   "execution_count": 16,
   "metadata": {},
   "outputs": [],
   "source": [
    "import gym\n",
    "import matplotlib.pyplot as plt\n",
    "import cv2\n",
    "\n",
    "%matplotlib inline"
   ]
  },
  {
   "cell_type": "markdown",
   "metadata": {},
   "source": [
    "Load the environment here "
   ]
  },
  {
   "cell_type": "code",
   "execution_count": 46,
   "metadata": {},
   "outputs": [],
   "source": [
    "# some constants for the notebook:\n",
    "fig_size = (10, 7)\n",
    "alpha = 0.03"
   ]
  },
  {
   "cell_type": "code",
   "execution_count": 3,
   "metadata": {},
   "outputs": [],
   "source": [
    "env = gym.make(\"Breakout-v0\")"
   ]
  },
  {
   "cell_type": "markdown",
   "metadata": {},
   "source": [
    "Let's see the observations obtained from the environment"
   ]
  },
  {
   "cell_type": "code",
   "execution_count": 4,
   "metadata": {},
   "outputs": [],
   "source": [
    "ins_obs = env.reset()"
   ]
  },
  {
   "cell_type": "code",
   "execution_count": 5,
   "metadata": {},
   "outputs": [
    {
     "data": {
      "image/png": "[encoded data removed]",
      "text/plain": [
       "<Figure size 720x504 with 1 Axes>"
      ]
     },
     "metadata": {},
     "output_type": "display_data"
    }
   ],
   "source": [
    "plt.figure(figsize=fig_size)\n",
    "plt.imshow(ins_obs);  # supress the return type"
   ]
  },
  {
   "cell_type": "code",
   "execution_count": 6,
   "metadata": {},
   "outputs": [
    {
     "data": {
      "text/plain": [
       "(210, 160, 3)"
      ]
     },
     "execution_count": 6,
     "metadata": {},
     "output_type": "execute_result"
    }
   ],
   "source": [
    "ins_obs.shape"
   ]
  },
  {
   "cell_type": "code",
   "execution_count": 13,
   "metadata": {},
   "outputs": [
    {
     "data": {
      "text/plain": [
       "(200, 0, 40.80460317460317, 64.29319678950455)"
      ]
     },
     "execution_count": 13,
     "metadata": {},
     "output_type": "execute_result"
    }
   ],
   "source": [
    "ins_obs.max(), ins_obs.min(), ins_obs.mean(), ins_obs.std()"
   ]
  },
  {
   "cell_type": "markdown",
   "metadata": {},
   "source": [
    "The observation is an image of raw pixels => [210, 160, 30]"
   ]
  },
  {
   "cell_type": "markdown",
   "metadata": {},
   "source": [
    "We can now take a look at the actions that we can take for this environment"
   ]
  },
  {
   "cell_type": "code",
   "execution_count": 14,
   "metadata": {},
   "outputs": [
    {
     "data": {
      "text/plain": [
       "Discrete(4)"
      ]
     },
     "execution_count": 14,
     "metadata": {},
     "output_type": "execute_result"
    }
   ],
   "source": [
    "env.action_space"
   ]
  },
  {
   "cell_type": "markdown",
   "metadata": {},
   "source": [
    "So, there are four discrete actions that can be taken in the game. But wait. Aren't there only two possible things that we can do? i.e. Left and Right? Let's see what the four actions correspond to."
   ]
  },
  {
   "cell_type": "code",
   "execution_count": 8,
   "metadata": {},
   "outputs": [
    {
     "data": {
      "text/plain": [
       "['NOOP', 'FIRE', 'RIGHT', 'LEFT']"
      ]
     },
     "execution_count": 8,
     "metadata": {},
     "output_type": "execute_result"
    }
   ],
   "source": [
    "env.unwrapped.get_action_meanings()"
   ]
  },
  {
   "cell_type": "markdown",
   "metadata": {},
   "source": [
    "Alright. This clears up quite a lot. The two questionable actions are => \"NOOP\" and \"FIRE\". This makes sense. \"NOOP\" is a useless action (perhaps some unused button on the JoyStick) and \"FIRE\" works for some time upon hitting a special brick. Hmmm ... well I am getting so nostalgic doing this :D. Man! those Video Game days ..."
   ]
  },
  {
   "cell_type": "markdown",
   "metadata": {},
   "source": [
    "### Preprocessing the input observations"
   ]
  },
  {
   "cell_type": "markdown",
   "metadata": {},
   "source": [
    "Some parts of the image are non required. For example the score bar above. We should be able to ignore it"
   ]
  },
  {
   "cell_type": "code",
   "execution_count": 26,
   "metadata": {},
   "outputs": [
    {
     "name": "stdout",
     "output_type": "stream",
     "text": [
      "Initial observation shape:  (210, 160, 3)\n",
      "Black and White observation shape: (210, 160)\n",
      "Downsampled observation shape: (110, 84)\n",
      "Cropped observation shape: (84, 84)\n"
     ]
    },
    {
     "data": {
      "image/png": "[encoded data removed]",
      "text/plain": [
       "<Figure size 1440x720 with 4 Axes>"
      ]
     },
     "metadata": {},
     "output_type": "display_data"
    }
   ],
   "source": [
    "print(\"Initial observation shape: \", ins_obs.shape)\n",
    "\n",
    "# removing the colour from the observation\n",
    "bnw_ins_obs = ins_obs.mean(axis=-1)\n",
    "print(\"Black and White observation shape:\", bnw_ins_obs.shape)\n",
    "\n",
    "# downsample the observation\n",
    "ds_ins_obs = cv2.resize(bnw_ins_obs, (84, 110))\n",
    "print(\"Downsampled observation shape:\", ds_ins_obs.shape)\n",
    "\n",
    "# cropping the observation\n",
    "cropped_ins_obs = ds_ins_obs[21: -5, :]\n",
    "print(\"Cropped observation shape:\", cropped_ins_obs.shape)\n",
    "\n",
    "plt.figure(figsize=(20, 10))\n",
    "\n",
    "plt.subplot(141)\n",
    "plt.imshow(ins_obs);\n",
    "\n",
    "plt.subplot(142)\n",
    "plt.imshow(bnw_ins_obs, cmap=\"Greys\");\n",
    "\n",
    "plt.subplot(143)\n",
    "plt.imshow(ds_ins_obs, cmap=\"Greys\");\n",
    "\n",
    "plt.subplot(144)\n",
    "plt.imshow(cropped_ins_obs, cmap=\"Greys\");"
   ]
  },
  {
   "cell_type": "code",
   "execution_count": 28,
   "metadata": {},
   "outputs": [],
   "source": [
    "# putting together all the preprocessing steps:\n",
    "def preprocess_observation(obs):\n",
    "    # removing the colour from the observation\n",
    "    bnw_ins_obs = obs.mean(axis=-1)\n",
    "    print(\"Black and White observation shape:\", bnw_ins_obs.shape)\n",
    "\n",
    "    # downsample the observation\n",
    "    ds_ins_obs = cv2.resize(bnw_ins_obs, (84, 110))\n",
    "    print(\"Downsampled observation shape:\", ds_ins_obs.shape)\n",
    "\n",
    "    # cropping the observation\n",
    "    cropped_ins_obs = ds_ins_obs[21: -5, :]\n",
    "    print(\"Cropped observation shape:\", cropped_ins_obs.shape)\n",
    "    \n",
    "    # finally normalize the images:\n",
    "    nor = cropped_ins_obs / 255\n",
    "    \n",
    "    return nor"
   ]
  },
  {
   "cell_type": "markdown",
   "metadata": {},
   "source": [
    "Now, that non required information has been stripped away from the images, there is still one probelm that we have to take into consideration. \n",
    "<br> => <b> Just by looking at one frame, we cannot determine where the ball / pad is going. </b>\n",
    "<br> I can think of two solutions for this problem. One is to concatenate <b> past n </b> frames together and feed them to the network. Other solution is (the one that I will use) is to use only two consecutive frames and subtract them to obtain the current state.\n",
    "\n",
    "The following cells demonstrate this process"
   ]
  },
  {
   "cell_type": "code",
   "execution_count": 59,
   "metadata": {},
   "outputs": [],
   "source": [
    "# go 7 steps into the game\n",
    "for _ in range(7):\n",
    "    _, _, _, _ = env.step(env.action_space.sample())"
   ]
  },
  {
   "cell_type": "code",
   "execution_count": 60,
   "metadata": {},
   "outputs": [],
   "source": [
    "obs1, _, _, _ = env.step(env.action_space.sample())\n",
    "obs2, _, _, _ = env.step(env.action_space.sample())"
   ]
  },
  {
   "cell_type": "code",
   "execution_count": 61,
   "metadata": {},
   "outputs": [
    {
     "name": "stdout",
     "output_type": "stream",
     "text": [
      "Black and White observation shape: (210, 160)\n",
      "Downsampled observation shape: (110, 84)\n",
      "Cropped observation shape: (84, 84)\n",
      "Black and White observation shape: (210, 160)\n",
      "Downsampled observation shape: (110, 84)\n",
      "Cropped observation shape: (84, 84)\n"
     ]
    }
   ],
   "source": [
    "pre_obs1 = preprocess_observation(obs1)\n",
    "pre_obs2 = preprocess_observation(obs2)"
   ]
  },
  {
   "cell_type": "code",
   "execution_count": 62,
   "metadata": {},
   "outputs": [
    {
     "data": {
      "image/png": "[encoded data removed]",
      "text/plain": [
       "<Figure size 720x504 with 2 Axes>"
      ]
     },
     "metadata": {},
     "output_type": "display_data"
    }
   ],
   "source": [
    "# plot the two observations (after preprocessing) side by side\n",
    "plt.figure(figsize=fig_size)\n",
    "\n",
    "plt.subplot(121)\n",
    "plt.imshow(pre_obs1, cmap=\"Greys\");\n",
    "\n",
    "plt.subplot(122)\n",
    "plt.imshow(pre_obs2, cmap=\"Greys\");"
   ]
  },
  {
   "cell_type": "code",
   "execution_count": 63,
   "metadata": {},
   "outputs": [],
   "source": [
    "# creating the state (input to the network)\n",
    "inp_to_net = pre_obs2 - (alpha * pre_obs1)"
   ]
  },
  {
   "cell_type": "code",
   "execution_count": 64,
   "metadata": {},
   "outputs": [
    {
     "data": {
      "image/png": "[encoded data removed]",
      "text/plain": [
       "<Figure size 720x504 with 1 Axes>"
      ]
     },
     "metadata": {},
     "output_type": "display_data"
    }
   ],
   "source": [
    "# plot the input to the network\n",
    "plt.figure(figsize=fig_size)\n",
    "plt.imshow(inp_to_net, cmap=\"Greys\");"
   ]
  },
  {
   "cell_type": "markdown",
   "metadata": {},
   "source": [
    "Just print a small size of the input image to make sure data is properly normalized"
   ]
  },
  {
   "cell_type": "code",
   "execution_count": 67,
   "metadata": {},
   "outputs": [
    {
     "name": "stdout",
     "output_type": "stream",
     "text": [
      "[[ 0.          0.          0.          0.          0.          0.\n",
      "   0.          0.          0.          0.          0.          0.\n",
      "   0.        ]\n",
      " [ 0.          0.          0.          0.          0.          0.\n",
      "   0.          0.          0.          0.          0.          0.\n",
      "   0.        ]\n",
      " [ 0.          0.          0.          0.          0.          0.\n",
      "   0.          0.          0.          0.          0.          0.\n",
      "   0.        ]\n",
      " [ 0.          0.          0.          0.          0.          0.\n",
      "   0.          0.          0.          0.          0.          0.\n",
      "   0.        ]\n",
      " [ 0.          0.          0.          0.          0.          0.\n",
      "   0.          0.          0.          0.          0.          0.\n",
      "   0.        ]\n",
      " [ 0.          0.          0.          0.          0.          0.\n",
      "   0.          0.          0.          0.          0.          0.\n",
      "   0.        ]\n",
      " [ 0.          0.          0.          0.          0.          0.\n",
      "   0.          0.          0.          0.          0.         -0.00470119\n",
      "  -0.00470119]\n",
      " [ 0.          0.          0.          0.          0.          0.\n",
      "   0.          0.          0.          0.          0.         -0.00738754\n",
      "  -0.00738754]\n",
      " [ 0.          0.          0.43618301  0.43618301  0.43618301  0.43618301\n",
      "   0.43618301  0.43618301  0.43618301  0.43618301  0.15577822 -0.00402958\n",
      "  -0.00402958]\n",
      " [ 0.          0.          0.43618301  0.43618301  0.43618301  0.43618301\n",
      "   0.43618301  0.43618301  0.43618301  0.43618301  0.15577822  0.\n",
      "   0.        ]]\n"
     ]
    }
   ],
   "source": [
    "print(inp_to_net[70: 80, 30: 43])"
   ]
  },
  {
   "cell_type": "markdown",
   "metadata": {},
   "source": [
    "# This concludes the analysis of the environment"
   ]
  }
 ],
 "metadata": {
  "kernelspec": {
   "display_name": "Python 3",
   "language": "python",
   "name": "python3"
  },
  "language_info": {
   "codemirror_mode": {
    "name": "ipython",
    "version": 3
   },
   "file_extension": ".py",
   "mimetype": "text/x-python",
   "name": "python",
   "nbconvert_exporter": "python",
   "pygments_lexer": "ipython3",
   "version": "3.5.2"
  }
 },
 "nbformat": 4,
 "nbformat_minor": 2
}
