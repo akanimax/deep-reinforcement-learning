{
 "cells": [
  {
   "cell_type": "markdown",
   "metadata": {},
   "source": [
    "# Linear model with Random Parameter search\n",
    "-------------------------------------------------------------------------------------------------------------------\n",
    "This notebook uses an example to create a linear model for the cart-pole task. The parameters of the linear model are searched for randomly (from a uniform distribution). We are able to do such random sampling for this task only because this is a relatively simpler task. We cannot do the same thing for other tasks."
   ]
  },
  {
   "cell_type": "code",
   "execution_count": 1,
   "metadata": {},
   "outputs": [],
   "source": [
    "# obtain all the imports\n",
    "import numpy as np \n",
    "import gym\n",
    "import matplotlib.pyplot as plt\n",
    "\n",
    "import time # to induce slight sleep\n",
    "\n",
    "%matplotlib inline"
   ]
  },
  {
   "cell_type": "markdown",
   "metadata": {},
   "source": [
    "Define the function to obtain the action given the observation and the parameters theta"
   ]
  },
  {
   "cell_type": "code",
   "execution_count": 2,
   "metadata": {},
   "outputs": [],
   "source": [
    "def get_action(obs, thetas):\n",
    "    \"\"\"\n",
    "        obtain an action based on the current observation (state) and the linear learned theta parameters\n",
    "        @args\n",
    "            obs: current state of the environment\n",
    "            thetas: parameters of the linear model\n",
    "            \n",
    "        @return\n",
    "            action: 0 for moving cart left and 1 for right\n",
    "    \"\"\"\n",
    "    # obtain the value for decision making\n",
    "    value = np.dot(obs, thetas)\n",
    "    \n",
    "    # step function for making \n",
    "    if value >= 0:\n",
    "        action = 1\n",
    "    else:\n",
    "        action = 0\n",
    "\n",
    "    # return the value of the acquired action\n",
    "    return action"
   ]
  },
  {
   "cell_type": "markdown",
   "metadata": {},
   "source": [
    "Now perform the random search over the parameter space to find good parameters for the linear model"
   ]
  },
  {
   "cell_type": "code",
   "execution_count": 3,
   "metadata": {},
   "outputs": [],
   "source": [
    "def get_model(search_range=10, feedback=True):\n",
    "    \"\"\"\n",
    "        perform constrained random search over the parameter space for a linear model to solve the task\n",
    "        @args \n",
    "            environment: cart-Pole environment from the gym\n",
    "            search_range: values will be drawn from the uniform distribution over [-search_range, search_range]\n",
    "            feedback: whether to print the performance as the search progresses\n",
    "        @return\n",
    "            thetas: parameter vector for the linear model\n",
    "    \"\"\"\n",
    "    # create the environment for the search\n",
    "    environment = gym.make('CartPole-v0')\n",
    "    \n",
    "    # start by defining a helper method to check if the model is good enough\n",
    "    def is_good_enough(model, no_of_episodes=100, threshold=195):\n",
    "        \"\"\"\n",
    "            check if the current model is good enough given the environment\n",
    "            @args\n",
    "                model: parameter vector for the linear model\n",
    "                no_of_episodes: number of episodes to average over\n",
    "                threshold: minimun avg reward required to qualify as a good model\n",
    "                           The default value of the threshold is 195 \n",
    "                           refer the gym_environment for the task solved condition\n",
    "            @return\n",
    "                status: boolean denoting if the model is good enough\n",
    "                avg_reward: average reward obtained using the given model\n",
    "        \"\"\"\n",
    "        \n",
    "        rewards_list = []  # list to accumulate the rewards obtained during the episode\n",
    "\n",
    "        for _ in range(no_of_episodes):\n",
    "            obs = environment.reset()\n",
    "            total_reward = 0  # initialize total reward to 0\n",
    "\n",
    "            # start the episode loop\n",
    "            done = False\n",
    "            while not done:\n",
    "                action = get_action(obs, model)\n",
    "                obs, reward, done, _ = environment.step(action)\n",
    "\n",
    "                # accumulate the total_reward\n",
    "                total_reward += reward\n",
    "\n",
    "            # add the total reward to the rewards_list\n",
    "            rewards_list.append(total_reward)\n",
    "\n",
    "        # check if the model's average reward is greater or equal to the threshold\n",
    "        avg_reward = np.mean(rewards_list)\n",
    "\n",
    "        return avg_reward >= threshold, avg_reward\n",
    "\n",
    "    # create a performances list\n",
    "    performances_list = []\n",
    "    model_shape = environment.observation_space.shape\n",
    "    \n",
    "    # start the random search loop:\n",
    "    done = False\n",
    "    count = 1\n",
    "    while not done:\n",
    "        thetas = np.random.uniform(low=-search_range, high=search_range, size=model_shape)\n",
    "        done, pmnce = is_good_enough(thetas)\n",
    "        performances_list.append(pmnce)\n",
    "        \n",
    "        if feedback:\n",
    "            print(\"Finished %d runs. obtained performance: %.3f\" %(count, pmnce))\n",
    "        \n",
    "        count += 1\n",
    "    # display a graph of the performances obtained over the search\n",
    "    plt.plot(performances_list)\n",
    "    \n",
    "    # close the environment and delete the handle\n",
    "    environment.close()\n",
    "    del environment\n",
    "    \n",
    "    # return the final good model\n",
    "    return thetas"
   ]
  },
  {
   "cell_type": "code",
   "execution_count": 4,
   "metadata": {},
   "outputs": [
    {
     "name": "stdout",
     "output_type": "stream",
     "text": [
      "\u001b[33mWARN: gym.spaces.Box autodetected dtype as <class 'numpy.float32'>. Please provide explicit dtype.\u001b[0m\n",
      "Finished 1 runs. obtained performance: 9.030\n",
      "Finished 2 runs. obtained performance: 32.300\n",
      "Finished 3 runs. obtained performance: 46.200\n",
      "Finished 4 runs. obtained performance: 9.270\n",
      "Finished 5 runs. obtained performance: 156.330\n",
      "Finished 6 runs. obtained performance: 9.280\n",
      "Finished 7 runs. obtained performance: 9.490\n",
      "Finished 8 runs. obtained performance: 134.430\n",
      "Finished 9 runs. obtained performance: 8.920\n",
      "Finished 10 runs. obtained performance: 128.000\n",
      "Finished 11 runs. obtained performance: 9.640\n",
      "Finished 12 runs. obtained performance: 8.920\n",
      "Finished 13 runs. obtained performance: 9.550\n",
      "Finished 14 runs. obtained performance: 49.880\n",
      "Finished 15 runs. obtained performance: 121.590\n",
      "Finished 16 runs. obtained performance: 38.800\n",
      "Finished 17 runs. obtained performance: 8.960\n",
      "Finished 18 runs. obtained performance: 10.020\n",
      "Finished 19 runs. obtained performance: 161.100\n",
      "Finished 20 runs. obtained performance: 84.640\n",
      "Finished 21 runs. obtained performance: 152.480\n",
      "Finished 22 runs. obtained performance: 37.160\n",
      "Finished 23 runs. obtained performance: 75.200\n",
      "Finished 24 runs. obtained performance: 73.820\n",
      "Finished 25 runs. obtained performance: 9.100\n",
      "Finished 26 runs. obtained performance: 9.650\n",
      "Finished 27 runs. obtained performance: 79.110\n",
      "Finished 28 runs. obtained performance: 62.250\n",
      "Finished 29 runs. obtained performance: 71.730\n",
      "Finished 30 runs. obtained performance: 25.930\n",
      "Finished 31 runs. obtained performance: 59.850\n",
      "Finished 32 runs. obtained performance: 9.170\n",
      "Finished 33 runs. obtained performance: 183.240\n",
      "Finished 34 runs. obtained performance: 9.640\n",
      "Finished 35 runs. obtained performance: 9.830\n",
      "Finished 36 runs. obtained performance: 9.110\n",
      "Finished 37 runs. obtained performance: 9.750\n",
      "Finished 38 runs. obtained performance: 119.140\n",
      "Finished 39 runs. obtained performance: 87.400\n",
      "Finished 40 runs. obtained performance: 9.320\n",
      "Finished 41 runs. obtained performance: 9.150\n",
      "Finished 42 runs. obtained performance: 9.330\n",
      "Finished 43 runs. obtained performance: 27.080\n",
      "Finished 44 runs. obtained performance: 21.510\n",
      "Finished 45 runs. obtained performance: 58.290\n",
      "Finished 46 runs. obtained performance: 21.850\n",
      "Finished 47 runs. obtained performance: 9.010\n",
      "Finished 48 runs. obtained performance: 104.820\n",
      "Finished 49 runs. obtained performance: 78.210\n",
      "Finished 50 runs. obtained performance: 79.790\n",
      "Finished 51 runs. obtained performance: 9.450\n",
      "Finished 52 runs. obtained performance: 39.940\n",
      "Finished 53 runs. obtained performance: 86.320\n",
      "Finished 54 runs. obtained performance: 9.120\n",
      "Finished 55 runs. obtained performance: 9.350\n",
      "Finished 56 runs. obtained performance: 9.300\n",
      "Finished 57 runs. obtained performance: 9.520\n",
      "Finished 58 runs. obtained performance: 29.000\n",
      "Finished 59 runs. obtained performance: 70.590\n",
      "Finished 60 runs. obtained performance: 9.610\n",
      "Finished 61 runs. obtained performance: 97.220\n",
      "Finished 62 runs. obtained performance: 44.710\n",
      "Finished 63 runs. obtained performance: 9.330\n",
      "Finished 64 runs. obtained performance: 75.160\n",
      "Finished 65 runs. obtained performance: 68.930\n",
      "Finished 66 runs. obtained performance: 105.950\n",
      "Finished 67 runs. obtained performance: 199.950\n"
     ]
    },
    {
     "data": {
      "image/png": "[encoded data removed]",
      "text/plain": [
       "<Figure size 432x288 with 1 Axes>"
      ]
     },
     "metadata": {},
     "output_type": "display_data"
    }
   ],
   "source": [
    "# run the random search\n",
    "best_model = get_model()"
   ]
  },
  {
   "cell_type": "markdown",
   "metadata": {},
   "source": [
    "We can notice how fast the random search finds a good model. Although sometimes it takes a long time, but on an average, the random search algorithm finds a good model very easily"
   ]
  },
  {
   "cell_type": "markdown",
   "metadata": {},
   "source": [
    "## Demonstrate how well the random model performs:"
   ]
  },
  {
   "cell_type": "code",
   "execution_count": 17,
   "metadata": {},
   "outputs": [],
   "source": [
    "# function to play an episode using the given model:\n",
    "def play_episode(model, ignore_done_signal=False, max_steps=500):\n",
    "    \"\"\"\n",
    "        play and render the episode\n",
    "        @args\n",
    "            model: linear model   \n",
    "        @returns \n",
    "            None\n",
    "    \"\"\"\n",
    "    # create the cartPole environment\n",
    "    environment = gym.make('CartPole-v0')\n",
    "    \n",
    "    # reset the environment and obtain the initial observation\n",
    "    obs = environment.reset()\n",
    "    done = False\n",
    "    \n",
    "    count = 0\n",
    "    while not done and count < max_steps:\n",
    "        environment.render()\n",
    "        obs, _, done, _ = environment.step(get_action(obs, model))\n",
    "        \n",
    "        if ignore_done_signal:\n",
    "            done = False\n",
    "        \n",
    "        count += 1\n",
    "        \n",
    "    # wait 1 secs before closing the environment window\n",
    "    time.sleep(1)\n",
    "    environment.close()"
   ]
  },
  {
   "cell_type": "markdown",
   "metadata": {},
   "source": [
    "play an episode with a random model to see how bad it performs:"
   ]
  },
  {
   "cell_type": "code",
   "execution_count": 50,
   "metadata": {},
   "outputs": [
    {
     "name": "stdout",
     "output_type": "stream",
     "text": [
      "\u001b[33mWARN: gym.spaces.Box autodetected dtype as <class 'numpy.float32'>. Please provide explicit dtype.\u001b[0m\n",
      "\u001b[33mWARN: You are calling 'step()' even though this environment has already returned done = True. You should always call 'reset()' once you receive 'done = True' -- any further steps are undefined behavior.\u001b[0m\n"
     ]
    }
   ],
   "source": [
    "random_model = np.random.uniform(-100, 100, (4,))\n",
    "play_episode(random_model, ignore_done_signal=True, max_steps=200)"
   ]
  },
  {
   "cell_type": "markdown",
   "metadata": {},
   "source": [
    "As can be observed, it didn't last even 20 steps I suppose"
   ]
  },
  {
   "cell_type": "markdown",
   "metadata": {},
   "source": [
    "Now run the best model"
   ]
  },
  {
   "cell_type": "code",
   "execution_count": 70,
   "metadata": {},
   "outputs": [
    {
     "name": "stdout",
     "output_type": "stream",
     "text": [
      "\u001b[33mWARN: gym.spaces.Box autodetected dtype as <class 'numpy.float32'>. Please provide explicit dtype.\u001b[0m\n"
     ]
    }
   ],
   "source": [
    "play_episode(best_model, ignore_done_signal=True, max_steps=500)"
   ]
  },
  {
   "cell_type": "markdown",
   "metadata": {},
   "source": [
    "The best model does quite good."
   ]
  },
  {
   "cell_type": "markdown",
   "metadata": {},
   "source": [
    "# I hope this notebook helped"
   ]
  }
 ],
 "metadata": {
  "kernelspec": {
   "display_name": "Python 3",
   "language": "python",
   "name": "python3"
  },
  "language_info": {
   "codemirror_mode": {
    "name": "ipython",
    "version": 3
   },
   "file_extension": ".py",
   "mimetype": "text/x-python",
   "name": "python",
   "nbconvert_exporter": "python",
   "pygments_lexer": "ipython3",
   "version": "3.5.2"
  }
 },
 "nbformat": 4,
 "nbformat_minor": 2
}
