{
 "cells": [
  {
   "cell_type": "markdown",
   "metadata": {},
   "source": [
    "# Neural Network for estimating policy trained using policy_gradient method\n",
    "-------------------------------------------------------------------------------------------------------------------\n",
    "This notebook solves the cart-pole task using a neural network and trained using the policy_gradient method"
   ]
  },
  {
   "cell_type": "code",
   "execution_count": 1,
   "metadata": {},
   "outputs": [
    {
     "name": "stderr",
     "output_type": "stream",
     "text": [
      "/home/animesh/Programming/Envs/deep_learning/lib/python3.5/site-packages/h5py/__init__.py:36: FutureWarning: Conversion of the second argument of issubdtype from `float` to `np.floating` is deprecated. In future, it will be treated as `np.float64 == np.dtype(float).type`.\n",
      "  from ._conv import register_converters as _register_converters\n"
     ]
    }
   ],
   "source": [
    "import tensorflow as tf\n",
    "import gym\n",
    "import numpy as np\n",
    "import matplotlib.pyplot as plt\n",
    "import time"
   ]
  },
  {
   "cell_type": "code",
   "execution_count": 2,
   "metadata": {},
   "outputs": [],
   "source": [
    "tf.set_random_seed(3)  # 3 is my lucky number :D :)\n",
    "np.random.seed(3)  # for setting a seed to the numpy sample behaviour"
   ]
  },
  {
   "cell_type": "markdown",
   "metadata": {},
   "source": [
    "define a function to play one episode of the cart-pole game and return the corresponding states and actions. Note that, for playing the game, we are using the neural network to take actions :). Yes! it's like inception. The neural network plays the game to get better at it."
   ]
  },
  {
   "cell_type": "markdown",
   "metadata": {},
   "source": [
    "#### Please don't mind the long function names :( I am sort of habitual to it ... "
   ]
  },
  {
   "cell_type": "code",
   "execution_count": 3,
   "metadata": {},
   "outputs": [],
   "source": [
    "get_environment = lambda: gym.make('CartPole-v0')  # create a lambda function for obtaining the environment"
   ]
  },
  {
   "cell_type": "code",
   "execution_count": 4,
   "metadata": {},
   "outputs": [],
   "source": [
    "def play_one_cart_pole_episode(model, dis_gamma=0.9, render=False, ignore_done=False, max_steps=200):\n",
    "    \"\"\"\n",
    "        play single episode of the cart-pole game in order to generate the learning data\n",
    "        @args:\n",
    "            model: neural network object used to predict the action\n",
    "            dis_gamma: discount factor for calculating returns\n",
    "        @returns:\n",
    "            experience, episode_length => \n",
    "                (states, actions, returns): tuple of lists of state and return (**Not reward)\n",
    "                length of the episode\n",
    "    \"\"\"\n",
    "    # obtain the cart_pole environment\n",
    "    env = get_environment()\n",
    "    \n",
    "    # reset environment to obtain the first set of observations\n",
    "    obs = env.reset()\n",
    "    \n",
    "    # initialize the states and rewards lists\n",
    "    states = [obs]\n",
    "    actions = []\n",
    "    rewards = []  # note that initial state has no reward corresponding to it\n",
    "    \n",
    "    # play the game untill it lasts\n",
    "    done = False\n",
    "    steps = 1\n",
    "    while not done and steps <= max_steps:\n",
    "        # render if value is true\n",
    "        if render:\n",
    "            env.render()\n",
    "        \n",
    "        action_probs = model.predict(obs)\n",
    "        action = np.random.choice(range(len(action_probs)), p=action_probs)\n",
    "        \n",
    "        # take the action on the environment\n",
    "        obs, reward, done, _ = env.step(action)\n",
    "        \n",
    "        # append the state and reward to appropriate lists\n",
    "        states.append(obs)\n",
    "        actions.append(action)\n",
    "        rewards.append(reward)\n",
    "        \n",
    "        if ignore_done:\n",
    "            done = False\n",
    "        \n",
    "        steps += 1\n",
    "\n",
    "    # remove the last element from the states list since last state is not required for learning\n",
    "    states.pop(-1)\n",
    "    \n",
    "    episode_length = sum(rewards)\n",
    "    \n",
    "    # -----------------------------------------------------------------\n",
    "    # Tweak the reward function for faster learning\n",
    "    # -----------------------------------------------------------------\n",
    "    if episode_length < (max_steps - 1):\n",
    "        rewards[-1] += -100\n",
    "    # basically, if the cart falls in between episode, it gets a huge\n",
    "    # negative reward\n",
    "    # -----------------------------------------------------------------\n",
    "    \n",
    "    # now that we have the rewards, calculate the returns from them\n",
    "    # Note that return for a state is the \n",
    "    # Expected value of rewards (here onwards) discounted by the discount factor \\gamma\n",
    "    # G(t) = r + (gamma * G(t + 1))\n",
    "    \n",
    "    # initialize the returns list **Note that the last state has a return of 0\n",
    "    returns = [0]\n",
    "    \n",
    "    # calculate the returns in reverse order since it is efficient to do so\n",
    "    for reward in reversed(rewards):\n",
    "        returns.append(reward + (dis_gamma * returns[-1]))\n",
    "    \n",
    "    # remove the initial 0 return from the list\n",
    "    returns.pop(0)\n",
    "    \n",
    "    # reverse the returns list\n",
    "    returns = list(reversed(returns))\n",
    "        \n",
    "    # ensure the lengths of states, actions and returns are equal\n",
    "    assert len(states) == len(actions) and len(actions) == len(returns), \"Computation messed up\"\n",
    "    \n",
    "    # don't forget to close the environment :D\n",
    "    if render:\n",
    "        time.sleep(1)\n",
    "    env.close()\n",
    "        \n",
    "    # return the calculated lists\n",
    "    return np.array(states), np.array(actions), np.array(returns), episode_length"
   ]
  },
  {
   "cell_type": "markdown",
   "metadata": {},
   "source": [
    "Define the model class for the Neural Network computations"
   ]
  },
  {
   "cell_type": "code",
   "execution_count": 5,
   "metadata": {},
   "outputs": [],
   "source": [
    "class Model:\n",
    "    \"\"\"\n",
    "        Neural Network model for cart-Pole task\n",
    "    \"\"\"\n",
    "    \n",
    "    def __create_graph(self, eps=1e-12):\n",
    "        \"\"\" \n",
    "            private helper to create tensorflow graph \n",
    "        \"\"\"\n",
    "        \n",
    "        graph = tf.Graph()\n",
    "        \n",
    "        with graph.as_default():\n",
    "            # define the input placeholders for training the model\n",
    "            with tf.name_scope(\"Inputs\"):\n",
    "                x = tf.placeholder(tf.float32, shape=(None, self.ip_dim), name=\"input\")\n",
    "                y = tf.placeholder(tf.int32, shape=(None,), name=\"taken_action\")\n",
    "                g = tf.placeholder(tf.float32, shape=(None,), name=\"returns\")\n",
    "    \n",
    "            # convert y into one_hot values\n",
    "            with tf.name_scope(\"One_Hot_Encoder\"):\n",
    "                y_one_hot = tf.one_hot(y, depth=self.num_classes, name=\"one_hot\")\n",
    "    \n",
    "            # define the neural computations pipeline\n",
    "            x_ = x\n",
    "            count = 1\n",
    "            for width in self.hl_widths:\n",
    "                x_ = tf.layers.dense(x_, width, activation=tf.nn.tanh, name=\"Dense_\"+str(count))\n",
    "                count += 1\n",
    "                \n",
    "            # add the last dense layer for prediction\n",
    "            y_ = tf.layers.dense(x_, self.num_classes, use_bias=False, name=\"Dense_\"+str(count))\n",
    "            \n",
    "            # define the predictions block\n",
    "            with tf.name_scope(\"Predictions\"):\n",
    "                predictions = tf.nn.softmax(y_)\n",
    "                \n",
    "            # define the loss for the graph\n",
    "            with tf.name_scope(\"Loss\"):\n",
    "                loss = -tf.reduce_sum((g * tf.log(tf.reduce_sum((predictions * y_one_hot), axis=-1) + eps)))\n",
    "                \n",
    "            # define the optimizer\n",
    "            with tf.name_scope(\"Opimizer\"):\n",
    "                optimizer = tf.train.AdagradOptimizer(learning_rate=self.lr).minimize(loss)\n",
    "                \n",
    "            # define the init op\n",
    "            with tf.name_scope(\"Errands\"):\n",
    "                init = tf.global_variables_initializer()\n",
    "                \n",
    "        # return the graph and important tensor handles\n",
    "        return graph, x, y, g, predictions, loss, optimizer, init\n",
    "                \n",
    "    \n",
    "    def __init__(self, input_dim, num_classes, depth=1, hl_widths=[64], lr=3e-3):\n",
    "        \"\"\"\n",
    "            create a dense Neural Network model\n",
    "            @args:\n",
    "                input_dim: input dimensionality\n",
    "                depth: number of hidden layers of the network. Note this \n",
    "                       doesn't include the last classification layer.\n",
    "                hl_widths: list denoting the hidden layer widths of the network\n",
    "                num_classes: final layer number of classes\n",
    "                lr: learning rate \n",
    "        \"\"\"\n",
    "        \n",
    "        # check if the depth and hl_widths are consistent\n",
    "        assert depth == len(hl_widths), \"hl_widths' length is not equal to depth\"\n",
    "        \n",
    "        # attach the values to the object data\n",
    "        self.ip_dim = input_dim\n",
    "        self.depth = depth\n",
    "        self.hl_widths = hl_widths\n",
    "        self.num_classes = num_classes\n",
    "        self.lr = lr\n",
    "        \n",
    "        # create the graph and obtain the handles to tensors\n",
    "        self.graph, self.x, self.y, self.g, self.pred, self.loss, self.opt, self.init = self.__create_graph()\n",
    "        \n",
    "        # attach an interactive session to the model object\n",
    "        self.sess = tf.Session(graph=self.graph)\n",
    "        \n",
    "        # initialize the graph with random values\n",
    "        self.sess.run(self.init)\n",
    "        \n",
    "    \n",
    "    def predict(self, inp_obs):\n",
    "        \"\"\"\n",
    "            make a prediction based on the input observation\n",
    "            @args:\n",
    "                inp_obs: a single input observation\n",
    "            @returns:\n",
    "                pred: probability distribution over the possible actions\n",
    "        \"\"\"\n",
    "        gra_in = np.expand_dims(inp_obs, axis=0)  # add the batch axis\n",
    "        \n",
    "        # use the session to make the prediction\n",
    "        pred = np.squeeze(self.sess.run(self.pred, feed_dict={self.x: gra_in}))\n",
    "        \n",
    "        # return the calculated predictions\n",
    "        return pred\n",
    "        \n",
    "    \n",
    "    def fit(self, inp_obs, act_actions, returns, max_iter=300, convergence_thresh=1e-12, feed_back=True,\n",
    "           feedback_factor=5):\n",
    "        \"\"\"\n",
    "            fit the model on the givne data (input, action, return)\n",
    "            @args:\n",
    "                inp_obs: list of input observations\n",
    "                act_actions: list of actions\n",
    "                returns: list of obtained returns\n",
    "        \"\"\"\n",
    "        # run the training until either convergence threshold is reached or max_iter are complete\n",
    "        cnt = 1\n",
    "        loss_delta = float('inf')\n",
    "        prev_loss = 0\n",
    "        while cnt <= max_iter and loss_delta > convergence_thresh:\n",
    "            _, cur_loss = self.sess.run([self.opt, self.loss], feed_dict={\n",
    "                                                                         self.x: inp_obs,\n",
    "                                                                         self.y: act_actions,\n",
    "                                                                         self.g: returns\n",
    "                                                                     })\n",
    "            if feed_back and cnt % (max_iter / feedback_factor) == 0:\n",
    "                print(\"Current_step: \", cnt, \"   Current_loss:\", cur_loss)\n",
    "            \n",
    "            loss_delta = np.abs(cur_loss - prev_loss)\n",
    "            prev_loss = cur_loss\n",
    "            cnt += 1\n",
    "            \n",
    "        # print a message for training complete\n",
    "        print(\"fit complete\")\n",
    "        return cur_loss"
   ]
  },
  {
   "cell_type": "markdown",
   "metadata": {},
   "source": [
    "### Let's test the above defined abstractions. "
   ]
  },
  {
   "cell_type": "markdown",
   "metadata": {},
   "source": [
    "The model creates the neural network and has a very easy to use api => (fit and predict). Let's create a default model"
   ]
  },
  {
   "cell_type": "code",
   "execution_count": 6,
   "metadata": {},
   "outputs": [],
   "source": [
    "model = Model(4, 2, depth=2, hl_widths=[32, 32])  # 4 = num_of_inputs, 2 = num_actions"
   ]
  },
  {
   "cell_type": "markdown",
   "metadata": {},
   "source": [
    "Let's play an episode using this model (policy)"
   ]
  },
  {
   "cell_type": "code",
   "execution_count": 7,
   "metadata": {},
   "outputs": [
    {
     "name": "stdout",
     "output_type": "stream",
     "text": [
      "\u001b[33mWARN: gym.spaces.Box autodetected dtype as <class 'numpy.float32'>. Please provide explicit dtype.\u001b[0m\n"
     ]
    }
   ],
   "source": [
    "x, y, g, _ = play_one_cart_pole_episode(model)"
   ]
  },
  {
   "cell_type": "markdown",
   "metadata": {},
   "source": [
    "Alright, now let's test if the fit function actually reduces the loss using the experience obtained from playing the first episode."
   ]
  },
  {
   "cell_type": "code",
   "execution_count": 8,
   "metadata": {},
   "outputs": [
    {
     "name": "stdout",
     "output_type": "stream",
     "text": [
      "Current_step:  200    Current_loss: -4385.995\n",
      "Current_step:  400    Current_loss: -5905.079\n",
      "Current_step:  600    Current_loss: -6828.601\n",
      "Current_step:  800    Current_loss: -7526.468\n",
      "Current_step:  1000    Current_loss: -8106.0156\n",
      "fit complete\n"
     ]
    }
   ],
   "source": [
    "model.fit(x, y, g, max_iter=1000);"
   ]
  },
  {
   "cell_type": "markdown",
   "metadata": {},
   "source": [
    "Cool. This ensures that the abstractions created above work nicely. :) ... On to actually traing the model now."
   ]
  },
  {
   "cell_type": "markdown",
   "metadata": {},
   "source": [
    "### With the model and a function to play the episode, We will now perform the training"
   ]
  },
  {
   "cell_type": "code",
   "execution_count": 9,
   "metadata": {},
   "outputs": [],
   "source": [
    "def train_network(policy_network, episodes_per_learn=10, epochs_per_learn=5000, no_of_epochs=10, feedback_chk=2):\n",
    "    \"\"\"\n",
    "        improve the policy by playing episodes\n",
    "        @args:\n",
    "            policy_network: model of the policy\n",
    "            episodes_per_learn: no_of_episodes to play for one training_session\n",
    "            epochs_per_learn: iterations per training_session\n",
    "    \"\"\"\n",
    "    print(\"Training start\")\n",
    "    print(\"-------------------------------------------------------------------------------------------\")\n",
    "    \n",
    "    losses = []\n",
    "    avg_episode_lengths = []\n",
    "    \n",
    "    for epoch in range(no_of_epochs):\n",
    "        # generate data by playing episodes\n",
    "        print(\"Epoch: \", epoch + 1)\n",
    "        x, y, g, ep_lens = [], [], [], []\n",
    "        for _ in range(episodes_per_learn):\n",
    "            x_, y_, g_, ep_len = play_one_cart_pole_episode(policy_network)\n",
    "            x.append(x_); y.append(y_); g.append(g_); ep_lens.append(ep_len)\n",
    "\n",
    "        # concatenate all the data\n",
    "        x = np.concatenate(x); y = np.concatenate(y); g = np.concatenate(g)\n",
    "\n",
    "        # perform training on this data\n",
    "        loss = policy_network.fit(x, y, g, max_iter=epochs_per_learn)\n",
    "        \n",
    "        if (epoch + 1) % feedback_chk == 0 or epoch == 0:\n",
    "            # play an episode with render on\n",
    "            play_one_cart_pole_episode(policy_network, render=True)\n",
    "            \n",
    "        losses.append(loss)\n",
    "        avg_episode_lengths.append(np.mean(ep_lens))\n",
    "            \n",
    "        print(\"Average Episode Length: %d\" %np.mean(ep_lens))\n",
    "    print(\"-------------------------------------------------------------------------------------------\")\n",
    "    print(\"Training complete\")\n",
    "    \n",
    "    return losses, avg_episode_lengths"
   ]
  },
  {
   "cell_type": "markdown",
   "metadata": {},
   "source": [
    "train the network using the above defined function"
   ]
  },
  {
   "cell_type": "code",
   "execution_count": 10,
   "metadata": {
    "scrolled": true
   },
   "outputs": [
    {
     "name": "stdout",
     "output_type": "stream",
     "text": [
      "Training start\n",
      "-------------------------------------------------------------------------------------------\n",
      "Epoch:  1\n",
      "\u001b[33mWARN: gym.spaces.Box autodetected dtype as <class 'numpy.float32'>. Please provide explicit dtype.\u001b[0m\n",
      "\u001b[33mWARN: gym.spaces.Box autodetected dtype as <class 'numpy.float32'>. Please provide explicit dtype.\u001b[0m\n",
      "\u001b[33mWARN: gym.spaces.Box autodetected dtype as <class 'numpy.float32'>. Please provide explicit dtype.\u001b[0m\n",
      "\u001b[33mWARN: gym.spaces.Box autodetected dtype as <class 'numpy.float32'>. Please provide explicit dtype.\u001b[0m\n",
      "\u001b[33mWARN: gym.spaces.Box autodetected dtype as <class 'numpy.float32'>. Please provide explicit dtype.\u001b[0m\n",
      "\u001b[33mWARN: gym.spaces.Box autodetected dtype as <class 'numpy.float32'>. Please provide explicit dtype.\u001b[0m\n",
      "\u001b[33mWARN: gym.spaces.Box autodetected dtype as <class 'numpy.float32'>. Please provide explicit dtype.\u001b[0m\n",
      "\u001b[33mWARN: gym.spaces.Box autodetected dtype as <class 'numpy.float32'>. Please provide explicit dtype.\u001b[0m\n",
      "\u001b[33mWARN: gym.spaces.Box autodetected dtype as <class 'numpy.float32'>. Please provide explicit dtype.\u001b[0m\n",
      "\u001b[33mWARN: gym.spaces.Box autodetected dtype as <class 'numpy.float32'>. Please provide explicit dtype.\u001b[0m\n",
      "Current_step:  1000    Current_loss: -91939.28\n",
      "Current_step:  2000    Current_loss: -92996.445\n",
      "Current_step:  3000    Current_loss: -93180.95\n",
      "Current_step:  4000    Current_loss: -93248.78\n",
      "Current_step:  5000    Current_loss: -93281.836\n",
      "fit complete\n",
      "\u001b[33mWARN: gym.spaces.Box autodetected dtype as <class 'numpy.float32'>. Please provide explicit dtype.\u001b[0m\n",
      "Average Episode Length: 27\n",
      "Epoch:  2\n",
      "\u001b[33mWARN: gym.spaces.Box autodetected dtype as <class 'numpy.float32'>. Please provide explicit dtype.\u001b[0m\n",
      "\u001b[33mWARN: gym.spaces.Box autodetected dtype as <class 'numpy.float32'>. Please provide explicit dtype.\u001b[0m\n",
      "\u001b[33mWARN: gym.spaces.Box autodetected dtype as <class 'numpy.float32'>. Please provide explicit dtype.\u001b[0m\n",
      "\u001b[33mWARN: gym.spaces.Box autodetected dtype as <class 'numpy.float32'>. Please provide explicit dtype.\u001b[0m\n",
      "\u001b[33mWARN: gym.spaces.Box autodetected dtype as <class 'numpy.float32'>. Please provide explicit dtype.\u001b[0m\n",
      "\u001b[33mWARN: gym.spaces.Box autodetected dtype as <class 'numpy.float32'>. Please provide explicit dtype.\u001b[0m\n",
      "\u001b[33mWARN: gym.spaces.Box autodetected dtype as <class 'numpy.float32'>. Please provide explicit dtype.\u001b[0m\n",
      "\u001b[33mWARN: gym.spaces.Box autodetected dtype as <class 'numpy.float32'>. Please provide explicit dtype.\u001b[0m\n",
      "\u001b[33mWARN: gym.spaces.Box autodetected dtype as <class 'numpy.float32'>. Please provide explicit dtype.\u001b[0m\n",
      "\u001b[33mWARN: gym.spaces.Box autodetected dtype as <class 'numpy.float32'>. Please provide explicit dtype.\u001b[0m\n",
      "Current_step:  1000    Current_loss: -67618.08\n",
      "Current_step:  2000    Current_loss: -69356.32\n",
      "Current_step:  3000    Current_loss: -69610.96\n",
      "Current_step:  4000    Current_loss: -69731.875\n",
      "Current_step:  5000    Current_loss: -69834.57\n",
      "fit complete\n",
      "Average Episode Length: 109\n",
      "Epoch:  3\n",
      "\u001b[33mWARN: gym.spaces.Box autodetected dtype as <class 'numpy.float32'>. Please provide explicit dtype.\u001b[0m\n",
      "\u001b[33mWARN: gym.spaces.Box autodetected dtype as <class 'numpy.float32'>. Please provide explicit dtype.\u001b[0m\n",
      "\u001b[33mWARN: gym.spaces.Box autodetected dtype as <class 'numpy.float32'>. Please provide explicit dtype.\u001b[0m\n",
      "\u001b[33mWARN: gym.spaces.Box autodetected dtype as <class 'numpy.float32'>. Please provide explicit dtype.\u001b[0m\n",
      "\u001b[33mWARN: gym.spaces.Box autodetected dtype as <class 'numpy.float32'>. Please provide explicit dtype.\u001b[0m\n",
      "\u001b[33mWARN: gym.spaces.Box autodetected dtype as <class 'numpy.float32'>. Please provide explicit dtype.\u001b[0m\n",
      "\u001b[33mWARN: gym.spaces.Box autodetected dtype as <class 'numpy.float32'>. Please provide explicit dtype.\u001b[0m\n",
      "\u001b[33mWARN: gym.spaces.Box autodetected dtype as <class 'numpy.float32'>. Please provide explicit dtype.\u001b[0m\n",
      "\u001b[33mWARN: gym.spaces.Box autodetected dtype as <class 'numpy.float32'>. Please provide explicit dtype.\u001b[0m\n",
      "\u001b[33mWARN: gym.spaces.Box autodetected dtype as <class 'numpy.float32'>. Please provide explicit dtype.\u001b[0m\n",
      "Current_step:  1000    Current_loss: -26104.887\n",
      "Current_step:  2000    Current_loss: -26958.295\n",
      "Current_step:  3000    Current_loss: -27606.396\n",
      "Current_step:  4000    Current_loss: -28249.762\n",
      "Current_step:  5000    Current_loss: -28961.83\n",
      "fit complete\n",
      "Average Episode Length: 182\n",
      "Epoch:  4\n",
      "\u001b[33mWARN: gym.spaces.Box autodetected dtype as <class 'numpy.float32'>. Please provide explicit dtype.\u001b[0m\n",
      "\u001b[33mWARN: gym.spaces.Box autodetected dtype as <class 'numpy.float32'>. Please provide explicit dtype.\u001b[0m\n",
      "\u001b[33mWARN: gym.spaces.Box autodetected dtype as <class 'numpy.float32'>. Please provide explicit dtype.\u001b[0m\n",
      "\u001b[33mWARN: gym.spaces.Box autodetected dtype as <class 'numpy.float32'>. Please provide explicit dtype.\u001b[0m\n",
      "\u001b[33mWARN: gym.spaces.Box autodetected dtype as <class 'numpy.float32'>. Please provide explicit dtype.\u001b[0m\n",
      "\u001b[33mWARN: gym.spaces.Box autodetected dtype as <class 'numpy.float32'>. Please provide explicit dtype.\u001b[0m\n",
      "\u001b[33mWARN: gym.spaces.Box autodetected dtype as <class 'numpy.float32'>. Please provide explicit dtype.\u001b[0m\n",
      "\u001b[33mWARN: gym.spaces.Box autodetected dtype as <class 'numpy.float32'>. Please provide explicit dtype.\u001b[0m\n",
      "\u001b[33mWARN: gym.spaces.Box autodetected dtype as <class 'numpy.float32'>. Please provide explicit dtype.\u001b[0m\n",
      "\u001b[33mWARN: gym.spaces.Box autodetected dtype as <class 'numpy.float32'>. Please provide explicit dtype.\u001b[0m\n",
      "Current_step:  1000    Current_loss: 1871.4655\n",
      "Current_step:  2000    Current_loss: 1869.1313\n",
      "Current_step:  3000    Current_loss: 1865.7219\n",
      "Current_step:  4000    Current_loss: 1859.2705\n",
      "Current_step:  5000    Current_loss: 1819.0823\n",
      "fit complete\n",
      "Average Episode Length: 197\n",
      "Epoch:  5\n",
      "\u001b[33mWARN: gym.spaces.Box autodetected dtype as <class 'numpy.float32'>. Please provide explicit dtype.\u001b[0m\n",
      "\u001b[33mWARN: gym.spaces.Box autodetected dtype as <class 'numpy.float32'>. Please provide explicit dtype.\u001b[0m\n",
      "\u001b[33mWARN: gym.spaces.Box autodetected dtype as <class 'numpy.float32'>. Please provide explicit dtype.\u001b[0m\n",
      "\u001b[33mWARN: gym.spaces.Box autodetected dtype as <class 'numpy.float32'>. Please provide explicit dtype.\u001b[0m\n",
      "\u001b[33mWARN: gym.spaces.Box autodetected dtype as <class 'numpy.float32'>. Please provide explicit dtype.\u001b[0m\n",
      "\u001b[33mWARN: gym.spaces.Box autodetected dtype as <class 'numpy.float32'>. Please provide explicit dtype.\u001b[0m\n",
      "\u001b[33mWARN: gym.spaces.Box autodetected dtype as <class 'numpy.float32'>. Please provide explicit dtype.\u001b[0m\n",
      "\u001b[33mWARN: gym.spaces.Box autodetected dtype as <class 'numpy.float32'>. Please provide explicit dtype.\u001b[0m\n",
      "\u001b[33mWARN: gym.spaces.Box autodetected dtype as <class 'numpy.float32'>. Please provide explicit dtype.\u001b[0m\n",
      "\u001b[33mWARN: gym.spaces.Box autodetected dtype as <class 'numpy.float32'>. Please provide explicit dtype.\u001b[0m\n",
      "Current_step:  1000    Current_loss: -18922.785\n",
      "Current_step:  2000    Current_loss: -22385.201\n",
      "Current_step:  3000    Current_loss: -25182.412\n",
      "Current_step:  4000    Current_loss: -27425.07\n",
      "Current_step:  5000    Current_loss: -29025.34\n",
      "fit complete\n",
      "\u001b[33mWARN: gym.spaces.Box autodetected dtype as <class 'numpy.float32'>. Please provide explicit dtype.\u001b[0m\n",
      "Average Episode Length: 198\n",
      "Epoch:  6\n",
      "\u001b[33mWARN: gym.spaces.Box autodetected dtype as <class 'numpy.float32'>. Please provide explicit dtype.\u001b[0m\n",
      "\u001b[33mWARN: gym.spaces.Box autodetected dtype as <class 'numpy.float32'>. Please provide explicit dtype.\u001b[0m\n",
      "\u001b[33mWARN: gym.spaces.Box autodetected dtype as <class 'numpy.float32'>. Please provide explicit dtype.\u001b[0m\n",
      "\u001b[33mWARN: gym.spaces.Box autodetected dtype as <class 'numpy.float32'>. Please provide explicit dtype.\u001b[0m\n",
      "\u001b[33mWARN: gym.spaces.Box autodetected dtype as <class 'numpy.float32'>. Please provide explicit dtype.\u001b[0m\n",
      "\u001b[33mWARN: gym.spaces.Box autodetected dtype as <class 'numpy.float32'>. Please provide explicit dtype.\u001b[0m\n",
      "\u001b[33mWARN: gym.spaces.Box autodetected dtype as <class 'numpy.float32'>. Please provide explicit dtype.\u001b[0m\n",
      "\u001b[33mWARN: gym.spaces.Box autodetected dtype as <class 'numpy.float32'>. Please provide explicit dtype.\u001b[0m\n",
      "\u001b[33mWARN: gym.spaces.Box autodetected dtype as <class 'numpy.float32'>. Please provide explicit dtype.\u001b[0m\n",
      "\u001b[33mWARN: gym.spaces.Box autodetected dtype as <class 'numpy.float32'>. Please provide explicit dtype.\u001b[0m\n"
     ]
    },
    {
     "name": "stdout",
     "output_type": "stream",
     "text": [
      "Current_step:  1000    Current_loss: -16288.296\n",
      "Current_step:  2000    Current_loss: -17016.889\n",
      "Current_step:  3000    Current_loss: -17470.879\n",
      "Current_step:  4000    Current_loss: -17794.041\n",
      "Current_step:  5000    Current_loss: -18044.785\n",
      "fit complete\n",
      "Average Episode Length: 190\n",
      "Epoch:  7\n",
      "\u001b[33mWARN: gym.spaces.Box autodetected dtype as <class 'numpy.float32'>. Please provide explicit dtype.\u001b[0m\n",
      "\u001b[33mWARN: gym.spaces.Box autodetected dtype as <class 'numpy.float32'>. Please provide explicit dtype.\u001b[0m\n",
      "\u001b[33mWARN: gym.spaces.Box autodetected dtype as <class 'numpy.float32'>. Please provide explicit dtype.\u001b[0m\n",
      "\u001b[33mWARN: gym.spaces.Box autodetected dtype as <class 'numpy.float32'>. Please provide explicit dtype.\u001b[0m\n",
      "\u001b[33mWARN: gym.spaces.Box autodetected dtype as <class 'numpy.float32'>. Please provide explicit dtype.\u001b[0m\n",
      "\u001b[33mWARN: gym.spaces.Box autodetected dtype as <class 'numpy.float32'>. Please provide explicit dtype.\u001b[0m\n",
      "\u001b[33mWARN: gym.spaces.Box autodetected dtype as <class 'numpy.float32'>. Please provide explicit dtype.\u001b[0m\n",
      "\u001b[33mWARN: gym.spaces.Box autodetected dtype as <class 'numpy.float32'>. Please provide explicit dtype.\u001b[0m\n",
      "\u001b[33mWARN: gym.spaces.Box autodetected dtype as <class 'numpy.float32'>. Please provide explicit dtype.\u001b[0m\n",
      "\u001b[33mWARN: gym.spaces.Box autodetected dtype as <class 'numpy.float32'>. Please provide explicit dtype.\u001b[0m\n",
      "Current_step:  1000    Current_loss: 1820.3441\n",
      "Current_step:  2000    Current_loss: 1819.5663\n",
      "Current_step:  3000    Current_loss: 1818.8451\n",
      "Current_step:  4000    Current_loss: 1818.1635\n",
      "Current_step:  5000    Current_loss: 1817.5176\n",
      "fit complete\n",
      "Average Episode Length: 199\n",
      "Epoch:  8\n",
      "\u001b[33mWARN: gym.spaces.Box autodetected dtype as <class 'numpy.float32'>. Please provide explicit dtype.\u001b[0m\n",
      "\u001b[33mWARN: gym.spaces.Box autodetected dtype as <class 'numpy.float32'>. Please provide explicit dtype.\u001b[0m\n",
      "\u001b[33mWARN: gym.spaces.Box autodetected dtype as <class 'numpy.float32'>. Please provide explicit dtype.\u001b[0m\n",
      "\u001b[33mWARN: gym.spaces.Box autodetected dtype as <class 'numpy.float32'>. Please provide explicit dtype.\u001b[0m\n",
      "\u001b[33mWARN: gym.spaces.Box autodetected dtype as <class 'numpy.float32'>. Please provide explicit dtype.\u001b[0m\n",
      "\u001b[33mWARN: gym.spaces.Box autodetected dtype as <class 'numpy.float32'>. Please provide explicit dtype.\u001b[0m\n",
      "\u001b[33mWARN: gym.spaces.Box autodetected dtype as <class 'numpy.float32'>. Please provide explicit dtype.\u001b[0m\n",
      "\u001b[33mWARN: gym.spaces.Box autodetected dtype as <class 'numpy.float32'>. Please provide explicit dtype.\u001b[0m\n",
      "\u001b[33mWARN: gym.spaces.Box autodetected dtype as <class 'numpy.float32'>. Please provide explicit dtype.\u001b[0m\n",
      "\u001b[33mWARN: gym.spaces.Box autodetected dtype as <class 'numpy.float32'>. Please provide explicit dtype.\u001b[0m\n",
      "Current_step:  1000    Current_loss: 1195.6335\n",
      "Current_step:  2000    Current_loss: 1192.611\n",
      "Current_step:  3000    Current_loss: 1191.6619\n",
      "Current_step:  4000    Current_loss: 1191.0934\n",
      "Current_step:  5000    Current_loss: 1190.6105\n",
      "fit complete\n",
      "Average Episode Length: 199\n",
      "Epoch:  9\n",
      "\u001b[33mWARN: gym.spaces.Box autodetected dtype as <class 'numpy.float32'>. Please provide explicit dtype.\u001b[0m\n",
      "\u001b[33mWARN: gym.spaces.Box autodetected dtype as <class 'numpy.float32'>. Please provide explicit dtype.\u001b[0m\n",
      "\u001b[33mWARN: gym.spaces.Box autodetected dtype as <class 'numpy.float32'>. Please provide explicit dtype.\u001b[0m\n",
      "\u001b[33mWARN: gym.spaces.Box autodetected dtype as <class 'numpy.float32'>. Please provide explicit dtype.\u001b[0m\n",
      "\u001b[33mWARN: gym.spaces.Box autodetected dtype as <class 'numpy.float32'>. Please provide explicit dtype.\u001b[0m\n",
      "\u001b[33mWARN: gym.spaces.Box autodetected dtype as <class 'numpy.float32'>. Please provide explicit dtype.\u001b[0m\n",
      "\u001b[33mWARN: gym.spaces.Box autodetected dtype as <class 'numpy.float32'>. Please provide explicit dtype.\u001b[0m\n",
      "\u001b[33mWARN: gym.spaces.Box autodetected dtype as <class 'numpy.float32'>. Please provide explicit dtype.\u001b[0m\n",
      "\u001b[33mWARN: gym.spaces.Box autodetected dtype as <class 'numpy.float32'>. Please provide explicit dtype.\u001b[0m\n",
      "\u001b[33mWARN: gym.spaces.Box autodetected dtype as <class 'numpy.float32'>. Please provide explicit dtype.\u001b[0m\n",
      "Current_step:  1000    Current_loss: -28729.379\n",
      "Current_step:  2000    Current_loss: -32610.445\n",
      "Current_step:  3000    Current_loss: -36025.176\n",
      "Current_step:  4000    Current_loss: -38665.74\n",
      "Current_step:  5000    Current_loss: -40375.934\n",
      "fit complete\n",
      "Average Episode Length: 194\n",
      "Epoch:  10\n",
      "\u001b[33mWARN: gym.spaces.Box autodetected dtype as <class 'numpy.float32'>. Please provide explicit dtype.\u001b[0m\n",
      "\u001b[33mWARN: gym.spaces.Box autodetected dtype as <class 'numpy.float32'>. Please provide explicit dtype.\u001b[0m\n",
      "\u001b[33mWARN: gym.spaces.Box autodetected dtype as <class 'numpy.float32'>. Please provide explicit dtype.\u001b[0m\n",
      "\u001b[33mWARN: gym.spaces.Box autodetected dtype as <class 'numpy.float32'>. Please provide explicit dtype.\u001b[0m\n",
      "\u001b[33mWARN: gym.spaces.Box autodetected dtype as <class 'numpy.float32'>. Please provide explicit dtype.\u001b[0m\n",
      "\u001b[33mWARN: gym.spaces.Box autodetected dtype as <class 'numpy.float32'>. Please provide explicit dtype.\u001b[0m\n",
      "\u001b[33mWARN: gym.spaces.Box autodetected dtype as <class 'numpy.float32'>. Please provide explicit dtype.\u001b[0m\n",
      "\u001b[33mWARN: gym.spaces.Box autodetected dtype as <class 'numpy.float32'>. Please provide explicit dtype.\u001b[0m\n",
      "\u001b[33mWARN: gym.spaces.Box autodetected dtype as <class 'numpy.float32'>. Please provide explicit dtype.\u001b[0m\n",
      "\u001b[33mWARN: gym.spaces.Box autodetected dtype as <class 'numpy.float32'>. Please provide explicit dtype.\u001b[0m\n",
      "Current_step:  1000    Current_loss: -22464.389\n",
      "Current_step:  2000    Current_loss: -24880.826\n",
      "Current_step:  3000    Current_loss: -26342.023\n",
      "Current_step:  4000    Current_loss: -27257.902\n",
      "Current_step:  5000    Current_loss: -27844.861\n",
      "fit complete\n",
      "\u001b[33mWARN: gym.spaces.Box autodetected dtype as <class 'numpy.float32'>. Please provide explicit dtype.\u001b[0m\n",
      "Average Episode Length: 195\n",
      "Epoch:  11\n",
      "\u001b[33mWARN: gym.spaces.Box autodetected dtype as <class 'numpy.float32'>. Please provide explicit dtype.\u001b[0m\n",
      "\u001b[33mWARN: gym.spaces.Box autodetected dtype as <class 'numpy.float32'>. Please provide explicit dtype.\u001b[0m\n",
      "\u001b[33mWARN: gym.spaces.Box autodetected dtype as <class 'numpy.float32'>. Please provide explicit dtype.\u001b[0m\n",
      "\u001b[33mWARN: gym.spaces.Box autodetected dtype as <class 'numpy.float32'>. Please provide explicit dtype.\u001b[0m\n",
      "\u001b[33mWARN: gym.spaces.Box autodetected dtype as <class 'numpy.float32'>. Please provide explicit dtype.\u001b[0m\n",
      "\u001b[33mWARN: gym.spaces.Box autodetected dtype as <class 'numpy.float32'>. Please provide explicit dtype.\u001b[0m\n",
      "\u001b[33mWARN: gym.spaces.Box autodetected dtype as <class 'numpy.float32'>. Please provide explicit dtype.\u001b[0m\n",
      "\u001b[33mWARN: gym.spaces.Box autodetected dtype as <class 'numpy.float32'>. Please provide explicit dtype.\u001b[0m\n",
      "\u001b[33mWARN: gym.spaces.Box autodetected dtype as <class 'numpy.float32'>. Please provide explicit dtype.\u001b[0m\n",
      "\u001b[33mWARN: gym.spaces.Box autodetected dtype as <class 'numpy.float32'>. Please provide explicit dtype.\u001b[0m\n",
      "Current_step:  1000    Current_loss: 1815.1373\n",
      "fit complete\n",
      "Average Episode Length: 199\n",
      "Epoch:  12\n",
      "\u001b[33mWARN: gym.spaces.Box autodetected dtype as <class 'numpy.float32'>. Please provide explicit dtype.\u001b[0m\n",
      "\u001b[33mWARN: gym.spaces.Box autodetected dtype as <class 'numpy.float32'>. Please provide explicit dtype.\u001b[0m\n",
      "\u001b[33mWARN: gym.spaces.Box autodetected dtype as <class 'numpy.float32'>. Please provide explicit dtype.\u001b[0m\n",
      "\u001b[33mWARN: gym.spaces.Box autodetected dtype as <class 'numpy.float32'>. Please provide explicit dtype.\u001b[0m\n",
      "\u001b[33mWARN: gym.spaces.Box autodetected dtype as <class 'numpy.float32'>. Please provide explicit dtype.\u001b[0m\n",
      "\u001b[33mWARN: gym.spaces.Box autodetected dtype as <class 'numpy.float32'>. Please provide explicit dtype.\u001b[0m\n",
      "\u001b[33mWARN: gym.spaces.Box autodetected dtype as <class 'numpy.float32'>. Please provide explicit dtype.\u001b[0m\n",
      "\u001b[33mWARN: gym.spaces.Box autodetected dtype as <class 'numpy.float32'>. Please provide explicit dtype.\u001b[0m\n",
      "\u001b[33mWARN: gym.spaces.Box autodetected dtype as <class 'numpy.float32'>. Please provide explicit dtype.\u001b[0m\n",
      "\u001b[33mWARN: gym.spaces.Box autodetected dtype as <class 'numpy.float32'>. Please provide explicit dtype.\u001b[0m\n",
      "fit complete\n",
      "Average Episode Length: 200\n",
      "Epoch:  13\n",
      "\u001b[33mWARN: gym.spaces.Box autodetected dtype as <class 'numpy.float32'>. Please provide explicit dtype.\u001b[0m\n",
      "\u001b[33mWARN: gym.spaces.Box autodetected dtype as <class 'numpy.float32'>. Please provide explicit dtype.\u001b[0m\n",
      "\u001b[33mWARN: gym.spaces.Box autodetected dtype as <class 'numpy.float32'>. Please provide explicit dtype.\u001b[0m\n"
     ]
    },
    {
     "name": "stdout",
     "output_type": "stream",
     "text": [
      "\u001b[33mWARN: gym.spaces.Box autodetected dtype as <class 'numpy.float32'>. Please provide explicit dtype.\u001b[0m\n",
      "\u001b[33mWARN: gym.spaces.Box autodetected dtype as <class 'numpy.float32'>. Please provide explicit dtype.\u001b[0m\n",
      "\u001b[33mWARN: gym.spaces.Box autodetected dtype as <class 'numpy.float32'>. Please provide explicit dtype.\u001b[0m\n",
      "\u001b[33mWARN: gym.spaces.Box autodetected dtype as <class 'numpy.float32'>. Please provide explicit dtype.\u001b[0m\n",
      "\u001b[33mWARN: gym.spaces.Box autodetected dtype as <class 'numpy.float32'>. Please provide explicit dtype.\u001b[0m\n",
      "\u001b[33mWARN: gym.spaces.Box autodetected dtype as <class 'numpy.float32'>. Please provide explicit dtype.\u001b[0m\n",
      "\u001b[33mWARN: gym.spaces.Box autodetected dtype as <class 'numpy.float32'>. Please provide explicit dtype.\u001b[0m\n",
      "Current_step:  1000    Current_loss: 1750.646\n",
      "fit complete\n",
      "Average Episode Length: 200\n",
      "Epoch:  14\n",
      "\u001b[33mWARN: gym.spaces.Box autodetected dtype as <class 'numpy.float32'>. Please provide explicit dtype.\u001b[0m\n",
      "\u001b[33mWARN: gym.spaces.Box autodetected dtype as <class 'numpy.float32'>. Please provide explicit dtype.\u001b[0m\n",
      "\u001b[33mWARN: gym.spaces.Box autodetected dtype as <class 'numpy.float32'>. Please provide explicit dtype.\u001b[0m\n",
      "\u001b[33mWARN: gym.spaces.Box autodetected dtype as <class 'numpy.float32'>. Please provide explicit dtype.\u001b[0m\n",
      "\u001b[33mWARN: gym.spaces.Box autodetected dtype as <class 'numpy.float32'>. Please provide explicit dtype.\u001b[0m\n",
      "\u001b[33mWARN: gym.spaces.Box autodetected dtype as <class 'numpy.float32'>. Please provide explicit dtype.\u001b[0m\n",
      "\u001b[33mWARN: gym.spaces.Box autodetected dtype as <class 'numpy.float32'>. Please provide explicit dtype.\u001b[0m\n",
      "\u001b[33mWARN: gym.spaces.Box autodetected dtype as <class 'numpy.float32'>. Please provide explicit dtype.\u001b[0m\n",
      "\u001b[33mWARN: gym.spaces.Box autodetected dtype as <class 'numpy.float32'>. Please provide explicit dtype.\u001b[0m\n",
      "\u001b[33mWARN: gym.spaces.Box autodetected dtype as <class 'numpy.float32'>. Please provide explicit dtype.\u001b[0m\n",
      "Current_step:  1000    Current_loss: -562.1498\n",
      "Current_step:  2000    Current_loss: -1892.4163\n",
      "Current_step:  3000    Current_loss: -2869.8503\n",
      "Current_step:  4000    Current_loss: -3608.7397\n",
      "Current_step:  5000    Current_loss: -4168.96\n",
      "fit complete\n",
      "Average Episode Length: 198\n",
      "Epoch:  15\n",
      "\u001b[33mWARN: gym.spaces.Box autodetected dtype as <class 'numpy.float32'>. Please provide explicit dtype.\u001b[0m\n",
      "\u001b[33mWARN: gym.spaces.Box autodetected dtype as <class 'numpy.float32'>. Please provide explicit dtype.\u001b[0m\n",
      "\u001b[33mWARN: gym.spaces.Box autodetected dtype as <class 'numpy.float32'>. Please provide explicit dtype.\u001b[0m\n",
      "\u001b[33mWARN: gym.spaces.Box autodetected dtype as <class 'numpy.float32'>. Please provide explicit dtype.\u001b[0m\n",
      "\u001b[33mWARN: gym.spaces.Box autodetected dtype as <class 'numpy.float32'>. Please provide explicit dtype.\u001b[0m\n",
      "\u001b[33mWARN: gym.spaces.Box autodetected dtype as <class 'numpy.float32'>. Please provide explicit dtype.\u001b[0m\n",
      "\u001b[33mWARN: gym.spaces.Box autodetected dtype as <class 'numpy.float32'>. Please provide explicit dtype.\u001b[0m\n",
      "\u001b[33mWARN: gym.spaces.Box autodetected dtype as <class 'numpy.float32'>. Please provide explicit dtype.\u001b[0m\n",
      "\u001b[33mWARN: gym.spaces.Box autodetected dtype as <class 'numpy.float32'>. Please provide explicit dtype.\u001b[0m\n",
      "\u001b[33mWARN: gym.spaces.Box autodetected dtype as <class 'numpy.float32'>. Please provide explicit dtype.\u001b[0m\n",
      "Current_step:  1000    Current_loss: 1584.3994\n",
      "Current_step:  2000    Current_loss: 1581.9252\n",
      "Current_step:  3000    Current_loss: 1581.2501\n",
      "fit complete\n",
      "\u001b[33mWARN: gym.spaces.Box autodetected dtype as <class 'numpy.float32'>. Please provide explicit dtype.\u001b[0m\n",
      "Average Episode Length: 200\n",
      "Epoch:  16\n",
      "\u001b[33mWARN: gym.spaces.Box autodetected dtype as <class 'numpy.float32'>. Please provide explicit dtype.\u001b[0m\n",
      "\u001b[33mWARN: gym.spaces.Box autodetected dtype as <class 'numpy.float32'>. Please provide explicit dtype.\u001b[0m\n",
      "\u001b[33mWARN: gym.spaces.Box autodetected dtype as <class 'numpy.float32'>. Please provide explicit dtype.\u001b[0m\n",
      "\u001b[33mWARN: gym.spaces.Box autodetected dtype as <class 'numpy.float32'>. Please provide explicit dtype.\u001b[0m\n",
      "\u001b[33mWARN: gym.spaces.Box autodetected dtype as <class 'numpy.float32'>. Please provide explicit dtype.\u001b[0m\n",
      "\u001b[33mWARN: gym.spaces.Box autodetected dtype as <class 'numpy.float32'>. Please provide explicit dtype.\u001b[0m\n",
      "\u001b[33mWARN: gym.spaces.Box autodetected dtype as <class 'numpy.float32'>. Please provide explicit dtype.\u001b[0m\n",
      "\u001b[33mWARN: gym.spaces.Box autodetected dtype as <class 'numpy.float32'>. Please provide explicit dtype.\u001b[0m\n",
      "\u001b[33mWARN: gym.spaces.Box autodetected dtype as <class 'numpy.float32'>. Please provide explicit dtype.\u001b[0m\n",
      "\u001b[33mWARN: gym.spaces.Box autodetected dtype as <class 'numpy.float32'>. Please provide explicit dtype.\u001b[0m\n",
      "Current_step:  1000    Current_loss: 1729.8351\n",
      "fit complete\n",
      "Average Episode Length: 200\n",
      "Epoch:  17\n",
      "\u001b[33mWARN: gym.spaces.Box autodetected dtype as <class 'numpy.float32'>. Please provide explicit dtype.\u001b[0m\n",
      "\u001b[33mWARN: gym.spaces.Box autodetected dtype as <class 'numpy.float32'>. Please provide explicit dtype.\u001b[0m\n",
      "\u001b[33mWARN: gym.spaces.Box autodetected dtype as <class 'numpy.float32'>. Please provide explicit dtype.\u001b[0m\n",
      "\u001b[33mWARN: gym.spaces.Box autodetected dtype as <class 'numpy.float32'>. Please provide explicit dtype.\u001b[0m\n",
      "\u001b[33mWARN: gym.spaces.Box autodetected dtype as <class 'numpy.float32'>. Please provide explicit dtype.\u001b[0m\n",
      "\u001b[33mWARN: gym.spaces.Box autodetected dtype as <class 'numpy.float32'>. Please provide explicit dtype.\u001b[0m\n",
      "\u001b[33mWARN: gym.spaces.Box autodetected dtype as <class 'numpy.float32'>. Please provide explicit dtype.\u001b[0m\n",
      "\u001b[33mWARN: gym.spaces.Box autodetected dtype as <class 'numpy.float32'>. Please provide explicit dtype.\u001b[0m\n",
      "\u001b[33mWARN: gym.spaces.Box autodetected dtype as <class 'numpy.float32'>. Please provide explicit dtype.\u001b[0m\n",
      "\u001b[33mWARN: gym.spaces.Box autodetected dtype as <class 'numpy.float32'>. Please provide explicit dtype.\u001b[0m\n",
      "Current_step:  1000    Current_loss: 1667.2412\n",
      "fit complete\n",
      "Average Episode Length: 200\n",
      "Epoch:  18\n",
      "\u001b[33mWARN: gym.spaces.Box autodetected dtype as <class 'numpy.float32'>. Please provide explicit dtype.\u001b[0m\n",
      "\u001b[33mWARN: gym.spaces.Box autodetected dtype as <class 'numpy.float32'>. Please provide explicit dtype.\u001b[0m\n",
      "\u001b[33mWARN: gym.spaces.Box autodetected dtype as <class 'numpy.float32'>. Please provide explicit dtype.\u001b[0m\n",
      "\u001b[33mWARN: gym.spaces.Box autodetected dtype as <class 'numpy.float32'>. Please provide explicit dtype.\u001b[0m\n",
      "\u001b[33mWARN: gym.spaces.Box autodetected dtype as <class 'numpy.float32'>. Please provide explicit dtype.\u001b[0m\n",
      "\u001b[33mWARN: gym.spaces.Box autodetected dtype as <class 'numpy.float32'>. Please provide explicit dtype.\u001b[0m\n",
      "\u001b[33mWARN: gym.spaces.Box autodetected dtype as <class 'numpy.float32'>. Please provide explicit dtype.\u001b[0m\n",
      "\u001b[33mWARN: gym.spaces.Box autodetected dtype as <class 'numpy.float32'>. Please provide explicit dtype.\u001b[0m\n",
      "\u001b[33mWARN: gym.spaces.Box autodetected dtype as <class 'numpy.float32'>. Please provide explicit dtype.\u001b[0m\n",
      "\u001b[33mWARN: gym.spaces.Box autodetected dtype as <class 'numpy.float32'>. Please provide explicit dtype.\u001b[0m\n",
      "Current_step:  1000    Current_loss: 1506.6581\n",
      "fit complete\n",
      "Average Episode Length: 200\n",
      "Epoch:  19\n",
      "\u001b[33mWARN: gym.spaces.Box autodetected dtype as <class 'numpy.float32'>. Please provide explicit dtype.\u001b[0m\n",
      "\u001b[33mWARN: gym.spaces.Box autodetected dtype as <class 'numpy.float32'>. Please provide explicit dtype.\u001b[0m\n",
      "\u001b[33mWARN: gym.spaces.Box autodetected dtype as <class 'numpy.float32'>. Please provide explicit dtype.\u001b[0m\n",
      "\u001b[33mWARN: gym.spaces.Box autodetected dtype as <class 'numpy.float32'>. Please provide explicit dtype.\u001b[0m\n",
      "\u001b[33mWARN: gym.spaces.Box autodetected dtype as <class 'numpy.float32'>. Please provide explicit dtype.\u001b[0m\n",
      "\u001b[33mWARN: gym.spaces.Box autodetected dtype as <class 'numpy.float32'>. Please provide explicit dtype.\u001b[0m\n",
      "\u001b[33mWARN: gym.spaces.Box autodetected dtype as <class 'numpy.float32'>. Please provide explicit dtype.\u001b[0m\n",
      "\u001b[33mWARN: gym.spaces.Box autodetected dtype as <class 'numpy.float32'>. Please provide explicit dtype.\u001b[0m\n",
      "\u001b[33mWARN: gym.spaces.Box autodetected dtype as <class 'numpy.float32'>. Please provide explicit dtype.\u001b[0m\n",
      "\u001b[33mWARN: gym.spaces.Box autodetected dtype as <class 'numpy.float32'>. Please provide explicit dtype.\u001b[0m\n"
     ]
    },
    {
     "name": "stdout",
     "output_type": "stream",
     "text": [
      "fit complete\n",
      "Average Episode Length: 200\n",
      "Epoch:  20\n",
      "\u001b[33mWARN: gym.spaces.Box autodetected dtype as <class 'numpy.float32'>. Please provide explicit dtype.\u001b[0m\n",
      "\u001b[33mWARN: gym.spaces.Box autodetected dtype as <class 'numpy.float32'>. Please provide explicit dtype.\u001b[0m\n",
      "\u001b[33mWARN: gym.spaces.Box autodetected dtype as <class 'numpy.float32'>. Please provide explicit dtype.\u001b[0m\n",
      "\u001b[33mWARN: gym.spaces.Box autodetected dtype as <class 'numpy.float32'>. Please provide explicit dtype.\u001b[0m\n",
      "\u001b[33mWARN: gym.spaces.Box autodetected dtype as <class 'numpy.float32'>. Please provide explicit dtype.\u001b[0m\n",
      "\u001b[33mWARN: gym.spaces.Box autodetected dtype as <class 'numpy.float32'>. Please provide explicit dtype.\u001b[0m\n",
      "\u001b[33mWARN: gym.spaces.Box autodetected dtype as <class 'numpy.float32'>. Please provide explicit dtype.\u001b[0m\n",
      "\u001b[33mWARN: gym.spaces.Box autodetected dtype as <class 'numpy.float32'>. Please provide explicit dtype.\u001b[0m\n",
      "\u001b[33mWARN: gym.spaces.Box autodetected dtype as <class 'numpy.float32'>. Please provide explicit dtype.\u001b[0m\n",
      "\u001b[33mWARN: gym.spaces.Box autodetected dtype as <class 'numpy.float32'>. Please provide explicit dtype.\u001b[0m\n",
      "Current_step:  1000    Current_loss: 1409.7532\n",
      "fit complete\n",
      "\u001b[33mWARN: gym.spaces.Box autodetected dtype as <class 'numpy.float32'>. Please provide explicit dtype.\u001b[0m\n",
      "Average Episode Length: 200\n",
      "-------------------------------------------------------------------------------------------\n",
      "Training complete\n"
     ]
    }
   ],
   "source": [
    "losses, avg_episode_lengths = train_network(model, episodes_per_learn=10, no_of_epochs=20, feedback_chk=5)"
   ]
  },
  {
   "cell_type": "code",
   "execution_count": 14,
   "metadata": {},
   "outputs": [
    {
     "data": {
      "text/plain": [
       "[<matplotlib.lines.Line2D at 0x7f6a7c478320>]"
      ]
     },
     "execution_count": 14,
     "metadata": {},
     "output_type": "execute_result"
    },
    {
     "data": {
      "image/png": "[encoded data removed]",
      "text/plain": [
       "<Figure size 432x288 with 1 Axes>"
      ]
     },
     "metadata": {},
     "output_type": "display_data"
    },
    {
     "data": {
      "image/png": "[encoded data removed]",
      "text/plain": [
       "<Figure size 432x288 with 1 Axes>"
      ]
     },
     "metadata": {},
     "output_type": "display_data"
    }
   ],
   "source": [
    "# plot the losses and the avg episode lengths\n",
    "plt.figure().suptitle(\"Objective Function\")\n",
    "plt.plot(losses)\n",
    "\n",
    "plt.figure().suptitle(\"Episode Lengths\")\n",
    "plt.plot(avg_episode_lengths)"
   ]
  },
  {
   "cell_type": "markdown",
   "metadata": {},
   "source": [
    "run the following cell multiple times to see how the trained network performs"
   ]
  },
  {
   "cell_type": "code",
   "execution_count": 15,
   "metadata": {
    "scrolled": false
   },
   "outputs": [
    {
     "name": "stdout",
     "output_type": "stream",
     "text": [
      "\u001b[33mWARN: gym.spaces.Box autodetected dtype as <class 'numpy.float32'>. Please provide explicit dtype.\u001b[0m\n"
     ]
    }
   ],
   "source": [
    "play_one_cart_pole_episode(model, render=True);"
   ]
  },
  {
   "cell_type": "markdown",
   "metadata": {},
   "source": [
    "### Check to see how long the cart can balance the pole. \n",
    "The following cell ignores the open-ai gym's time-step limit for 200 steps and overrides it to 400. Note that the override only works while testing the network and not while training it. Although the network was trained for 200 timesteps only, it can be seen that the network is able to balance more than that\n",
    "\n",
    "Feel free to change the max_steps to even higher values"
   ]
  },
  {
   "cell_type": "code",
   "execution_count": 20,
   "metadata": {},
   "outputs": [
    {
     "name": "stdout",
     "output_type": "stream",
     "text": [
      "\u001b[33mWARN: gym.spaces.Box autodetected dtype as <class 'numpy.float32'>. Please provide explicit dtype.\u001b[0m\n",
      "\u001b[33mWARN: You are calling 'step()' even though this environment has already returned done = True. You should always call 'reset()' once you receive 'done = True' -- any further steps are undefined behavior.\u001b[0m\n"
     ]
    }
   ],
   "source": [
    "play_one_cart_pole_episode(model, render=True, ignore_done=True, max_steps=400);"
   ]
  },
  {
   "cell_type": "markdown",
   "metadata": {},
   "source": [
    "# I hope the notebook helped :) ..."
   ]
  }
 ],
 "metadata": {
  "kernelspec": {
   "display_name": "Python 3",
   "language": "python",
   "name": "python3"
  },
  "language_info": {
   "codemirror_mode": {
    "name": "ipython",
    "version": 3
   },
   "file_extension": ".py",
   "mimetype": "text/x-python",
   "name": "python",
   "nbconvert_exporter": "python",
   "pygments_lexer": "ipython3",
   "version": "3.5.2"
  }
 },
 "nbformat": 4,
 "nbformat_minor": 2
}
